{
 "cells": [
  {
   "cell_type": "markdown",
   "id": "cce7ca35",
   "metadata": {},
   "source": [
    " # Implementing neural network to recognise hand written digits. "
   ]
  },
  {
   "cell_type": "markdown",
   "id": "e621b9f6",
   "metadata": {},
   "source": [
    "# Import Dependencies and Configure Visualization"
   ]
  },
  {
   "cell_type": "code",
   "execution_count": null,
   "id": "e952c27e",
   "metadata": {},
   "outputs": [],
   "source": [
    "import numpy as np\n",
    "import matplotlib.pyplot as plt\n",
    "\n",
    "# sklearn includes a complement of datasets which can be used\n",
    "# to explore different types of machine learning examples\n",
    "from sklearn import datasets\n",
    "\n",
    "# SVM: Support vector machine\n",
    "from sklearn import svm\n",
    "\n",
    "# Ensemble/RandomForestClassifier\n",
    "from sklearn.ensemble import RandomForestClassifier\n",
    "\n",
    "# sklearn.metrics helps to quantify the quality of predictions\n",
    "# See https://scikit-learn.org/stable/modules/model_evaluation.html\n",
    "from sklearn import metrics\n",
    "from sklearn.model_selection import train_test_split"
   ]
  },
  {
   "cell_type": "markdown",
   "id": "7bc710e0",
   "metadata": {},
   "source": [
    "## Load Data from SciKit-Learn"
   ]
  },
  {
   "cell_type": "code",
   "execution_count": null,
   "id": "36f5cb12",
   "metadata": {},
   "outputs": [],
   "source": [
    "# MNIST is a set of hand-drawn numbers encoded in 8x8 pixel images.\n",
    "# It is considered the \"Hello World\" of computer vision, and for that\n",
    "# reason it is included in the set of data distributed with SciKit-Learn.\n",
    "digits = datasets.load_digits()"
   ]
  },
  {
   "cell_type": "markdown",
   "id": "00877e17",
   "metadata": {},
   "source": [
    "## Visualize Images from the Dataset"
   ]
  },
  {
   "cell_type": "code",
   "execution_count": null,
   "id": "99ef8a9b",
   "metadata": {},
   "outputs": [],
   "source": [
    "# Pull the first nine images from the images and their associated targets\n",
    "example_images = tuple(zip(digits.images[:10], digits.target))\n",
    "\n",
    "# Create a figure showing the images\n",
    "for i, (idata, ilabel) in enumerate(example_images):\n",
    "    sub = plt.subplot(3, 4, i+1)\n",
    "    sub.imshow(idata, cmap='Greys')"
   ]
  },
  {
   "cell_type": "markdown",
   "id": "9ef3e917",
   "metadata": {},
   "source": [
    "# Create Classification Model to Predict Digits"
   ]
  },
  {
   "cell_type": "markdown",
   "id": "136890c7",
   "metadata": {},
   "source": [
    "## Re-shape Data for ML Input"
   ]
  },
  {
   "cell_type": "code",
   "execution_count": null,
   "id": "3f2d5692",
   "metadata": {},
   "outputs": [],
   "source": [
    "# Flatten the structure of the array using reshape\n",
    "# -1 tells NumPy to determine the row size from the\n",
    "# length of the inner dimensions.\n",
    "mnist_mldata = digits.images.reshape((len(digits.images), -1))"
   ]
  },
  {
   "cell_type": "markdown",
   "id": "04cbd313",
   "metadata": {},
   "source": [
    "## Create Machine Learning Model: Support Vector Classifier"
   ]
  },
  {
   "cell_type": "code",
   "execution_count": null,
   "id": "1c947164",
   "metadata": {},
   "outputs": [],
   "source": [
    "# Step 1: Split data into training/testing sets\n",
    "X_train, X_test, y_train, y_test = train_test_split(\n",
    "    mnist_mldata, digits.target, test_size=0.3, shuffle=False)"
   ]
  },
  {
   "cell_type": "code",
   "execution_count": null,
   "id": "746f5061",
   "metadata": {},
   "outputs": [],
   "source": [
    "# Step 2: Initialize machine learning algorithm\n",
    "mnist_svm = svm.SVC()\n",
    "\n",
    "# Step 3: Train model instance on the data\n",
    "mnist_svm.fit(X_train, y_train)\n",
    "\n",
    "# Step 4: Assess model performance on the testing data\n",
    "mnist_svm.score(X_test, y_test)"
   ]
  },
  {
   "cell_type": "markdown",
   "id": "e2601403",
   "metadata": {},
   "source": [
    "## Alternative Classification Algorithm: Random Forest"
   ]
  },
  {
   "cell_type": "code",
   "execution_count": null,
   "id": "f8eb8232",
   "metadata": {},
   "outputs": [],
   "source": [
    "# Initialize model instance, fit training data, assess\n",
    "mnist_rf = RandomForestClassifier()\n",
    "mnist_rf.fit(X_train, y_train)\n",
    "mnist_rf.score(X_test, y_test)"
   ]
  },
  {
   "cell_type": "markdown",
   "id": "a062aa39",
   "metadata": {},
   "source": [
    "# Apply Model to Data and Visualize Results"
   ]
  },
  {
   "cell_type": "code",
   "execution_count": null,
   "id": "3504e79b",
   "metadata": {},
   "outputs": [],
   "source": [
    "# Apply SVC model to create a set of \"predictions\"\n",
    "predictions_svm = mnist_svm.predict(X_test)\n",
    "\n",
    "# Create a structure including sample images, predictions, and labels\n",
    "example_predictions_svm = tuple(\n",
    "    zip(digits.images[len(X_train):], predictions_svm, y_test))\n",
    "\n",
    "# Check resulting structure to ensure that data combined correctly\n",
    "example_incorrect_predictions_svm = tuple(\n",
    "    filter(lambda v: v[1] != v[2], example_predictions_svm))"
   ]
  },
  {
   "cell_type": "markdown",
   "id": "86aa3cc2",
   "metadata": {},
   "source": [
    "## Correctly Matched Images"
   ]
  },
  {
   "cell_type": "code",
   "execution_count": null,
   "id": "2185d6f7",
   "metadata": {},
   "outputs": [],
   "source": [
    "plt.figure(figsize=(6, 6))\n",
    "\n",
    "# Visualize correctly matched images\n",
    "for i, (idata, p, ilabel) in enumerate(example_predictions_svm[:10]):\n",
    "    sub = plt.subplot(3, 4, i+1)\n",
    "    sub.imshow(idata, cmap='Greys')\n",
    "    plt.title('P: %s. A: %s' % (p, ilabel))"
   ]
  },
  {
   "cell_type": "markdown",
   "id": "5b0c8e96",
   "metadata": {},
   "source": [
    "## Incorrectly Matched Images"
   ]
  },
  {
   "cell_type": "code",
   "execution_count": null,
   "id": "c5b6cc15",
   "metadata": {},
   "outputs": [],
   "source": [
    "plt.figure(figsize=(6, 6))\n",
    "\n",
    "# Visualize correctly matched images\n",
    "for i, (idata, p, ilabel) in enumerate(example_incorrect_predictions_svm[:12]):\n",
    "    sub = plt.subplot(3, 4, i+1)\n",
    "    sub.imshow(idata, cmap='Greys')\n",
    "    plt.title('P: %s. A: %s' % (p, ilabel))"
   ]
  },
  {
   "cell_type": "code",
   "execution_count": null,
   "id": "d022c0bd",
   "metadata": {},
   "outputs": [],
   "source": []
  },
  {
   "cell_type": "code",
   "execution_count": null,
   "id": "c54355c9",
   "metadata": {},
   "outputs": [],
   "source": []
  },
  {
   "cell_type": "code",
   "execution_count": null,
   "id": "ebb730f7",
   "metadata": {},
   "outputs": [],
   "source": []
  }
 ],
 "metadata": {
  "kernelspec": {
   "display_name": "Python 3 (ipykernel)",
   "language": "python",
   "name": "python3"
  },
  "language_info": {
   "codemirror_mode": {
    "name": "ipython",
    "version": 3
   },
   "file_extension": ".py",
   "mimetype": "text/x-python",
   "name": "python",
   "nbconvert_exporter": "python",
   "pygments_lexer": "ipython3",
   "version": "3.9.13"
  }
 },
 "nbformat": 4,
 "nbformat_minor": 5
}
